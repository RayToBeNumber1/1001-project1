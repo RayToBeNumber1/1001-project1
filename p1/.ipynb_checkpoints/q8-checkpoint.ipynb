{
 "cells": [
  {
   "cell_type": "code",
   "execution_count": 1,
   "id": "b8c57111-d95e-47e3-99ac-43b5c43d9067",
   "metadata": {},
   "outputs": [],
   "source": [
    "import pandas as pd\n",
    "import numpy as np\n",
    "from scipy.stats import ttest_ind\n",
    "import re\n",
    "import numpy as np\n",
    "import matplotlib.pyplot as plt\n",
    "import seaborn as sns\n"
   ]
  },
  {
   "cell_type": "code",
   "execution_count": 2,
   "id": "fd1eadd2-22a9-4715-adef-27bea99709ae",
   "metadata": {},
   "outputs": [],
   "source": [
    "df = pd.read_csv('movieReplicationSet.csv')"
   ]
  },
  {
   "cell_type": "code",
   "execution_count": 3,
   "id": "72e0f20c-9e43-40ae-a050-6b2237bad72d",
   "metadata": {},
   "outputs": [
    {
     "data": {
      "text/plain": [
       "'Movies are best enjoyed alone (1: Yes; 0: No; -1: Did not respond)'"
      ]
     },
     "execution_count": 3,
     "metadata": {},
     "output_type": "execute_result"
    }
   ],
   "source": [
    "df.columns[476]"
   ]
  },
  {
   "cell_type": "code",
   "execution_count": 4,
   "id": "51213c03-daea-4ac9-90c6-5508c6814ffd",
   "metadata": {},
   "outputs": [],
   "source": [
    "alone = df[df['Movies are best enjoyed alone (1: Yes; 0: No; -1: Did not respond)'] == 1].index\n",
    "social = df[df['Movies are best enjoyed alone (1: Yes; 0: No; -1: Did not respond)'] == 0].index"
   ]
  },
  {
   "cell_type": "code",
   "execution_count": 5,
   "id": "59107220-cb5b-47ee-8e0c-816d8fbbe0b7",
   "metadata": {},
   "outputs": [],
   "source": [
    "alone_movies = df.iloc[alone]\n",
    "social_movies = df.iloc[social]"
   ]
  },
  {
   "cell_type": "code",
   "execution_count": null,
   "id": "8da24032-87cb-4e4f-8f32-b3d75323e013",
   "metadata": {},
   "outputs": [],
   "source": []
  },
  {
   "cell_type": "code",
   "execution_count": 6,
   "id": "117fd75f-3238-4d4e-be46-8debfcef5cf2",
   "metadata": {},
   "outputs": [
    {
     "name": "stdout",
     "output_type": "stream",
     "text": [
      "0.03\n",
      "12\n"
     ]
    },
    {
     "name": "stderr",
     "output_type": "stream",
     "text": [
      "/var/folders/jy/rq0xf1zj0rn4r28g1bsddb680000gn/T/ipykernel_824/645178240.py:3: RuntimeWarning: Precision loss occurred in moment calculation due to catastrophic cancellation. This occurs when the data are nearly identical. Results may be unreliable.\n",
      "  t_stat, p_value = ttest_ind(social_movies[i], alone_movies[i], nan_policy='omit')\n"
     ]
    }
   ],
   "source": [
    "count = 0\n",
    "for i in alone_movies.columns:\n",
    "    t_stat, p_value = ttest_ind(social_movies[i], alone_movies[i], nan_policy='omit')\n",
    "    if p_value <= 0.005:\n",
    "        count += 1\n",
    "print(count/400)\n",
    "print(count)\n",
    "    "
   ]
  },
  {
   "cell_type": "code",
   "execution_count": null,
   "id": "ac8627d6-ef69-45bb-b82c-ea8d3ec967e3",
   "metadata": {},
   "outputs": [],
   "source": []
  }
 ],
 "metadata": {
  "kernelspec": {
   "display_name": "Python 3 (ipykernel)",
   "language": "python",
   "name": "python3"
  },
  "language_info": {
   "codemirror_mode": {
    "name": "ipython",
    "version": 3
   },
   "file_extension": ".py",
   "mimetype": "text/x-python",
   "name": "python",
   "nbconvert_exporter": "python",
   "pygments_lexer": "ipython3",
   "version": "3.10.9"
  }
 },
 "nbformat": 4,
 "nbformat_minor": 5
}

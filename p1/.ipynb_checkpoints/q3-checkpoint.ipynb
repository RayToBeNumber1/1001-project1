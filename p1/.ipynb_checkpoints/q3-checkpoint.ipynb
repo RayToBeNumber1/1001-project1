{
 "cells": [
  {
   "cell_type": "code",
   "execution_count": 26,
   "id": "03172011-5a1e-4748-bf09-bbe7b72814bc",
   "metadata": {},
   "outputs": [],
   "source": [
    "import pandas as pd\n",
    "import numpy as np\n",
    "from scipy.stats import ttest_ind\n",
    "import re\n",
    "import numpy as np\n",
    "import matplotlib.pyplot as plt\n",
    "import seaborn as sns\n"
   ]
  },
  {
   "cell_type": "code",
   "execution_count": 27,
   "id": "7d860e5b-e6f0-4457-a7de-30e4a314f823",
   "metadata": {},
   "outputs": [
    {
     "data": {
      "text/html": [
       "<div>\n",
       "<style scoped>\n",
       "    .dataframe tbody tr th:only-of-type {\n",
       "        vertical-align: middle;\n",
       "    }\n",
       "\n",
       "    .dataframe tbody tr th {\n",
       "        vertical-align: top;\n",
       "    }\n",
       "\n",
       "    .dataframe thead th {\n",
       "        text-align: right;\n",
       "    }\n",
       "</style>\n",
       "<table border=\"1\" class=\"dataframe\">\n",
       "  <thead>\n",
       "    <tr style=\"text-align: right;\">\n",
       "      <th></th>\n",
       "      <th>The Life of David Gale (2003)</th>\n",
       "      <th>Wing Commander (1999)</th>\n",
       "      <th>Django Unchained (2012)</th>\n",
       "      <th>Alien (1979)</th>\n",
       "      <th>Indiana Jones and the Last Crusade (1989)</th>\n",
       "      <th>Snatch (2000)</th>\n",
       "      <th>Rambo: First Blood Part II (1985)</th>\n",
       "      <th>Fargo (1996)</th>\n",
       "      <th>Let the Right One In (2008)</th>\n",
       "      <th>Black Swan (2010)</th>\n",
       "      <th>...</th>\n",
       "      <th>When watching a movie I cheer or shout or talk or curse at the screen</th>\n",
       "      <th>When watching a movie I feel like the things on the screen are happening to me</th>\n",
       "      <th>As a movie unfolds I start to have problems keeping track of events that happened earlier</th>\n",
       "      <th>The emotions on the screen \"rub off\" on me - for instance if something sad is happening I get sad or if something frightening is happening I get scared</th>\n",
       "      <th>When watching a movie I get completely immersed in the alternative reality of the film</th>\n",
       "      <th>Movies change my position on social economic or political issues</th>\n",
       "      <th>When watching movies things get so intense that I have to stop watching</th>\n",
       "      <th>Gender identity (1 = female; 2 = male; 3 = self-described)</th>\n",
       "      <th>Are you an only child? (1: Yes; 0: No; -1: Did not respond)</th>\n",
       "      <th>Movies are best enjoyed alone (1: Yes; 0: No; -1: Did not respond)</th>\n",
       "    </tr>\n",
       "  </thead>\n",
       "  <tbody>\n",
       "    <tr>\n",
       "      <th>0</th>\n",
       "      <td>NaN</td>\n",
       "      <td>NaN</td>\n",
       "      <td>4.0</td>\n",
       "      <td>NaN</td>\n",
       "      <td>3.0</td>\n",
       "      <td>NaN</td>\n",
       "      <td>NaN</td>\n",
       "      <td>NaN</td>\n",
       "      <td>NaN</td>\n",
       "      <td>NaN</td>\n",
       "      <td>...</td>\n",
       "      <td>1.0</td>\n",
       "      <td>6.0</td>\n",
       "      <td>2.0</td>\n",
       "      <td>5.0</td>\n",
       "      <td>5.0</td>\n",
       "      <td>5.0</td>\n",
       "      <td>1.0</td>\n",
       "      <td>1.0</td>\n",
       "      <td>0</td>\n",
       "      <td>1</td>\n",
       "    </tr>\n",
       "    <tr>\n",
       "      <th>1</th>\n",
       "      <td>NaN</td>\n",
       "      <td>NaN</td>\n",
       "      <td>1.5</td>\n",
       "      <td>NaN</td>\n",
       "      <td>NaN</td>\n",
       "      <td>NaN</td>\n",
       "      <td>NaN</td>\n",
       "      <td>NaN</td>\n",
       "      <td>NaN</td>\n",
       "      <td>NaN</td>\n",
       "      <td>...</td>\n",
       "      <td>3.0</td>\n",
       "      <td>1.0</td>\n",
       "      <td>1.0</td>\n",
       "      <td>6.0</td>\n",
       "      <td>5.0</td>\n",
       "      <td>3.0</td>\n",
       "      <td>2.0</td>\n",
       "      <td>1.0</td>\n",
       "      <td>0</td>\n",
       "      <td>0</td>\n",
       "    </tr>\n",
       "    <tr>\n",
       "      <th>2</th>\n",
       "      <td>NaN</td>\n",
       "      <td>NaN</td>\n",
       "      <td>NaN</td>\n",
       "      <td>NaN</td>\n",
       "      <td>NaN</td>\n",
       "      <td>NaN</td>\n",
       "      <td>NaN</td>\n",
       "      <td>NaN</td>\n",
       "      <td>NaN</td>\n",
       "      <td>NaN</td>\n",
       "      <td>...</td>\n",
       "      <td>5.0</td>\n",
       "      <td>4.0</td>\n",
       "      <td>3.0</td>\n",
       "      <td>5.0</td>\n",
       "      <td>5.0</td>\n",
       "      <td>4.0</td>\n",
       "      <td>4.0</td>\n",
       "      <td>1.0</td>\n",
       "      <td>1</td>\n",
       "      <td>0</td>\n",
       "    </tr>\n",
       "    <tr>\n",
       "      <th>3</th>\n",
       "      <td>NaN</td>\n",
       "      <td>NaN</td>\n",
       "      <td>2.0</td>\n",
       "      <td>NaN</td>\n",
       "      <td>3.0</td>\n",
       "      <td>NaN</td>\n",
       "      <td>NaN</td>\n",
       "      <td>NaN</td>\n",
       "      <td>NaN</td>\n",
       "      <td>4.0</td>\n",
       "      <td>...</td>\n",
       "      <td>3.0</td>\n",
       "      <td>1.0</td>\n",
       "      <td>1.0</td>\n",
       "      <td>4.0</td>\n",
       "      <td>5.0</td>\n",
       "      <td>3.0</td>\n",
       "      <td>1.0</td>\n",
       "      <td>1.0</td>\n",
       "      <td>0</td>\n",
       "      <td>1</td>\n",
       "    </tr>\n",
       "    <tr>\n",
       "      <th>4</th>\n",
       "      <td>NaN</td>\n",
       "      <td>NaN</td>\n",
       "      <td>3.5</td>\n",
       "      <td>NaN</td>\n",
       "      <td>0.5</td>\n",
       "      <td>NaN</td>\n",
       "      <td>0.5</td>\n",
       "      <td>1.0</td>\n",
       "      <td>NaN</td>\n",
       "      <td>0.0</td>\n",
       "      <td>...</td>\n",
       "      <td>2.0</td>\n",
       "      <td>3.0</td>\n",
       "      <td>2.0</td>\n",
       "      <td>5.0</td>\n",
       "      <td>6.0</td>\n",
       "      <td>4.0</td>\n",
       "      <td>4.0</td>\n",
       "      <td>1.0</td>\n",
       "      <td>1</td>\n",
       "      <td>1</td>\n",
       "    </tr>\n",
       "    <tr>\n",
       "      <th>...</th>\n",
       "      <td>...</td>\n",
       "      <td>...</td>\n",
       "      <td>...</td>\n",
       "      <td>...</td>\n",
       "      <td>...</td>\n",
       "      <td>...</td>\n",
       "      <td>...</td>\n",
       "      <td>...</td>\n",
       "      <td>...</td>\n",
       "      <td>...</td>\n",
       "      <td>...</td>\n",
       "      <td>...</td>\n",
       "      <td>...</td>\n",
       "      <td>...</td>\n",
       "      <td>...</td>\n",
       "      <td>...</td>\n",
       "      <td>...</td>\n",
       "      <td>...</td>\n",
       "      <td>...</td>\n",
       "      <td>...</td>\n",
       "      <td>...</td>\n",
       "    </tr>\n",
       "    <tr>\n",
       "      <th>1092</th>\n",
       "      <td>NaN</td>\n",
       "      <td>NaN</td>\n",
       "      <td>NaN</td>\n",
       "      <td>NaN</td>\n",
       "      <td>3.5</td>\n",
       "      <td>NaN</td>\n",
       "      <td>NaN</td>\n",
       "      <td>NaN</td>\n",
       "      <td>NaN</td>\n",
       "      <td>NaN</td>\n",
       "      <td>...</td>\n",
       "      <td>3.0</td>\n",
       "      <td>4.0</td>\n",
       "      <td>3.0</td>\n",
       "      <td>5.0</td>\n",
       "      <td>5.0</td>\n",
       "      <td>4.0</td>\n",
       "      <td>4.0</td>\n",
       "      <td>1.0</td>\n",
       "      <td>0</td>\n",
       "      <td>0</td>\n",
       "    </tr>\n",
       "    <tr>\n",
       "      <th>1093</th>\n",
       "      <td>3.0</td>\n",
       "      <td>4.0</td>\n",
       "      <td>NaN</td>\n",
       "      <td>NaN</td>\n",
       "      <td>4.0</td>\n",
       "      <td>4.0</td>\n",
       "      <td>2.5</td>\n",
       "      <td>NaN</td>\n",
       "      <td>3.5</td>\n",
       "      <td>3.5</td>\n",
       "      <td>...</td>\n",
       "      <td>5.0</td>\n",
       "      <td>3.0</td>\n",
       "      <td>5.0</td>\n",
       "      <td>5.0</td>\n",
       "      <td>5.0</td>\n",
       "      <td>6.0</td>\n",
       "      <td>5.0</td>\n",
       "      <td>1.0</td>\n",
       "      <td>0</td>\n",
       "      <td>0</td>\n",
       "    </tr>\n",
       "    <tr>\n",
       "      <th>1094</th>\n",
       "      <td>NaN</td>\n",
       "      <td>NaN</td>\n",
       "      <td>NaN</td>\n",
       "      <td>NaN</td>\n",
       "      <td>NaN</td>\n",
       "      <td>NaN</td>\n",
       "      <td>NaN</td>\n",
       "      <td>3.5</td>\n",
       "      <td>NaN</td>\n",
       "      <td>NaN</td>\n",
       "      <td>...</td>\n",
       "      <td>6.0</td>\n",
       "      <td>3.0</td>\n",
       "      <td>1.0</td>\n",
       "      <td>6.0</td>\n",
       "      <td>6.0</td>\n",
       "      <td>4.0</td>\n",
       "      <td>2.0</td>\n",
       "      <td>1.0</td>\n",
       "      <td>0</td>\n",
       "      <td>0</td>\n",
       "    </tr>\n",
       "    <tr>\n",
       "      <th>1095</th>\n",
       "      <td>NaN</td>\n",
       "      <td>NaN</td>\n",
       "      <td>NaN</td>\n",
       "      <td>NaN</td>\n",
       "      <td>NaN</td>\n",
       "      <td>NaN</td>\n",
       "      <td>NaN</td>\n",
       "      <td>NaN</td>\n",
       "      <td>NaN</td>\n",
       "      <td>NaN</td>\n",
       "      <td>...</td>\n",
       "      <td>1.0</td>\n",
       "      <td>1.0</td>\n",
       "      <td>1.0</td>\n",
       "      <td>4.0</td>\n",
       "      <td>3.0</td>\n",
       "      <td>3.0</td>\n",
       "      <td>1.0</td>\n",
       "      <td>1.0</td>\n",
       "      <td>0</td>\n",
       "      <td>1</td>\n",
       "    </tr>\n",
       "    <tr>\n",
       "      <th>1096</th>\n",
       "      <td>NaN</td>\n",
       "      <td>NaN</td>\n",
       "      <td>4.0</td>\n",
       "      <td>NaN</td>\n",
       "      <td>2.5</td>\n",
       "      <td>NaN</td>\n",
       "      <td>NaN</td>\n",
       "      <td>3.0</td>\n",
       "      <td>NaN</td>\n",
       "      <td>3.5</td>\n",
       "      <td>...</td>\n",
       "      <td>3.0</td>\n",
       "      <td>4.0</td>\n",
       "      <td>1.0</td>\n",
       "      <td>4.0</td>\n",
       "      <td>4.0</td>\n",
       "      <td>4.0</td>\n",
       "      <td>1.0</td>\n",
       "      <td>1.0</td>\n",
       "      <td>0</td>\n",
       "      <td>1</td>\n",
       "    </tr>\n",
       "  </tbody>\n",
       "</table>\n",
       "<p>1097 rows × 477 columns</p>\n",
       "</div>"
      ],
      "text/plain": [
       "      The Life of David Gale (2003)  Wing Commander (1999)  \\\n",
       "0                               NaN                    NaN   \n",
       "1                               NaN                    NaN   \n",
       "2                               NaN                    NaN   \n",
       "3                               NaN                    NaN   \n",
       "4                               NaN                    NaN   \n",
       "...                             ...                    ...   \n",
       "1092                            NaN                    NaN   \n",
       "1093                            3.0                    4.0   \n",
       "1094                            NaN                    NaN   \n",
       "1095                            NaN                    NaN   \n",
       "1096                            NaN                    NaN   \n",
       "\n",
       "      Django Unchained (2012)  Alien (1979)  \\\n",
       "0                         4.0           NaN   \n",
       "1                         1.5           NaN   \n",
       "2                         NaN           NaN   \n",
       "3                         2.0           NaN   \n",
       "4                         3.5           NaN   \n",
       "...                       ...           ...   \n",
       "1092                      NaN           NaN   \n",
       "1093                      NaN           NaN   \n",
       "1094                      NaN           NaN   \n",
       "1095                      NaN           NaN   \n",
       "1096                      4.0           NaN   \n",
       "\n",
       "      Indiana Jones and the Last Crusade (1989)  Snatch (2000)  \\\n",
       "0                                           3.0            NaN   \n",
       "1                                           NaN            NaN   \n",
       "2                                           NaN            NaN   \n",
       "3                                           3.0            NaN   \n",
       "4                                           0.5            NaN   \n",
       "...                                         ...            ...   \n",
       "1092                                        3.5            NaN   \n",
       "1093                                        4.0            4.0   \n",
       "1094                                        NaN            NaN   \n",
       "1095                                        NaN            NaN   \n",
       "1096                                        2.5            NaN   \n",
       "\n",
       "      Rambo: First Blood Part II (1985)  Fargo (1996)  \\\n",
       "0                                   NaN           NaN   \n",
       "1                                   NaN           NaN   \n",
       "2                                   NaN           NaN   \n",
       "3                                   NaN           NaN   \n",
       "4                                   0.5           1.0   \n",
       "...                                 ...           ...   \n",
       "1092                                NaN           NaN   \n",
       "1093                                2.5           NaN   \n",
       "1094                                NaN           3.5   \n",
       "1095                                NaN           NaN   \n",
       "1096                                NaN           3.0   \n",
       "\n",
       "      Let the Right One In (2008)  Black Swan (2010)  ...  \\\n",
       "0                             NaN                NaN  ...   \n",
       "1                             NaN                NaN  ...   \n",
       "2                             NaN                NaN  ...   \n",
       "3                             NaN                4.0  ...   \n",
       "4                             NaN                0.0  ...   \n",
       "...                           ...                ...  ...   \n",
       "1092                          NaN                NaN  ...   \n",
       "1093                          3.5                3.5  ...   \n",
       "1094                          NaN                NaN  ...   \n",
       "1095                          NaN                NaN  ...   \n",
       "1096                          NaN                3.5  ...   \n",
       "\n",
       "      When watching a movie I cheer or shout or talk or curse at the screen  \\\n",
       "0                                                   1.0                       \n",
       "1                                                   3.0                       \n",
       "2                                                   5.0                       \n",
       "3                                                   3.0                       \n",
       "4                                                   2.0                       \n",
       "...                                                 ...                       \n",
       "1092                                                3.0                       \n",
       "1093                                                5.0                       \n",
       "1094                                                6.0                       \n",
       "1095                                                1.0                       \n",
       "1096                                                3.0                       \n",
       "\n",
       "      When watching a movie I feel like the things on the screen are happening to me  \\\n",
       "0                                                   6.0                                \n",
       "1                                                   1.0                                \n",
       "2                                                   4.0                                \n",
       "3                                                   1.0                                \n",
       "4                                                   3.0                                \n",
       "...                                                 ...                                \n",
       "1092                                                4.0                                \n",
       "1093                                                3.0                                \n",
       "1094                                                3.0                                \n",
       "1095                                                1.0                                \n",
       "1096                                                4.0                                \n",
       "\n",
       "      As a movie unfolds I start to have problems keeping track of events that happened earlier  \\\n",
       "0                                                   2.0                                           \n",
       "1                                                   1.0                                           \n",
       "2                                                   3.0                                           \n",
       "3                                                   1.0                                           \n",
       "4                                                   2.0                                           \n",
       "...                                                 ...                                           \n",
       "1092                                                3.0                                           \n",
       "1093                                                5.0                                           \n",
       "1094                                                1.0                                           \n",
       "1095                                                1.0                                           \n",
       "1096                                                1.0                                           \n",
       "\n",
       "      The emotions on the screen \"rub off\" on me - for instance if something sad is happening I get sad or if something frightening is happening I get scared  \\\n",
       "0                                                   5.0                                                                                                         \n",
       "1                                                   6.0                                                                                                         \n",
       "2                                                   5.0                                                                                                         \n",
       "3                                                   4.0                                                                                                         \n",
       "4                                                   5.0                                                                                                         \n",
       "...                                                 ...                                                                                                         \n",
       "1092                                                5.0                                                                                                         \n",
       "1093                                                5.0                                                                                                         \n",
       "1094                                                6.0                                                                                                         \n",
       "1095                                                4.0                                                                                                         \n",
       "1096                                                4.0                                                                                                         \n",
       "\n",
       "      When watching a movie I get completely immersed in the alternative reality of the film  \\\n",
       "0                                                   5.0                                        \n",
       "1                                                   5.0                                        \n",
       "2                                                   5.0                                        \n",
       "3                                                   5.0                                        \n",
       "4                                                   6.0                                        \n",
       "...                                                 ...                                        \n",
       "1092                                                5.0                                        \n",
       "1093                                                5.0                                        \n",
       "1094                                                6.0                                        \n",
       "1095                                                3.0                                        \n",
       "1096                                                4.0                                        \n",
       "\n",
       "      Movies change my position on social economic or political issues  \\\n",
       "0                                                   5.0                  \n",
       "1                                                   3.0                  \n",
       "2                                                   4.0                  \n",
       "3                                                   3.0                  \n",
       "4                                                   4.0                  \n",
       "...                                                 ...                  \n",
       "1092                                                4.0                  \n",
       "1093                                                6.0                  \n",
       "1094                                                4.0                  \n",
       "1095                                                3.0                  \n",
       "1096                                                4.0                  \n",
       "\n",
       "      When watching movies things get so intense that I have to stop watching  \\\n",
       "0                                                   1.0                         \n",
       "1                                                   2.0                         \n",
       "2                                                   4.0                         \n",
       "3                                                   1.0                         \n",
       "4                                                   4.0                         \n",
       "...                                                 ...                         \n",
       "1092                                                4.0                         \n",
       "1093                                                5.0                         \n",
       "1094                                                2.0                         \n",
       "1095                                                1.0                         \n",
       "1096                                                1.0                         \n",
       "\n",
       "      Gender identity (1 = female; 2 = male; 3 = self-described)  \\\n",
       "0                                                   1.0            \n",
       "1                                                   1.0            \n",
       "2                                                   1.0            \n",
       "3                                                   1.0            \n",
       "4                                                   1.0            \n",
       "...                                                 ...            \n",
       "1092                                                1.0            \n",
       "1093                                                1.0            \n",
       "1094                                                1.0            \n",
       "1095                                                1.0            \n",
       "1096                                                1.0            \n",
       "\n",
       "      Are you an only child? (1: Yes; 0: No; -1: Did not respond)  \\\n",
       "0                                                     0             \n",
       "1                                                     0             \n",
       "2                                                     1             \n",
       "3                                                     0             \n",
       "4                                                     1             \n",
       "...                                                 ...             \n",
       "1092                                                  0             \n",
       "1093                                                  0             \n",
       "1094                                                  0             \n",
       "1095                                                  0             \n",
       "1096                                                  0             \n",
       "\n",
       "      Movies are best enjoyed alone (1: Yes; 0: No; -1: Did not respond)  \n",
       "0                                                     1                   \n",
       "1                                                     0                   \n",
       "2                                                     0                   \n",
       "3                                                     1                   \n",
       "4                                                     1                   \n",
       "...                                                 ...                   \n",
       "1092                                                  0                   \n",
       "1093                                                  0                   \n",
       "1094                                                  0                   \n",
       "1095                                                  1                   \n",
       "1096                                                  1                   \n",
       "\n",
       "[1097 rows x 477 columns]"
      ]
     },
     "execution_count": 27,
     "metadata": {},
     "output_type": "execute_result"
    }
   ],
   "source": [
    "df = pd.read_csv('movieReplicationSet.csv')\n",
    "df"
   ]
  },
  {
   "cell_type": "code",
   "execution_count": 28,
   "id": "13c75a74-cffe-4d54-a284-54060214c6e3",
   "metadata": {},
   "outputs": [
    {
     "data": {
      "text/plain": [
       "'Gender identity (1 = female; 2 = male; 3 = self-described)'"
      ]
     },
     "execution_count": 28,
     "metadata": {},
     "output_type": "execute_result"
    }
   ],
   "source": [
    "df.columns[474]"
   ]
  },
  {
   "cell_type": "code",
   "execution_count": 29,
   "id": "76c70748-db48-4ab8-9a96-0114d340692e",
   "metadata": {},
   "outputs": [],
   "source": [
    "gender_col = df['Gender identity (1 = female; 2 = male; 3 = self-described)']"
   ]
  },
  {
   "cell_type": "code",
   "execution_count": 30,
   "id": "166b8980-92e6-4601-90d6-24f9244d07b8",
   "metadata": {},
   "outputs": [
    {
     "data": {
      "text/plain": [
       "0       1.0\n",
       "1       1.0\n",
       "2       1.0\n",
       "3       1.0\n",
       "4       1.0\n",
       "       ... \n",
       "1092    1.0\n",
       "1093    1.0\n",
       "1094    1.0\n",
       "1095    1.0\n",
       "1096    1.0\n",
       "Name: Gender identity (1 = female; 2 = male; 3 = self-described), Length: 1097, dtype: float64"
      ]
     },
     "execution_count": 30,
     "metadata": {},
     "output_type": "execute_result"
    }
   ],
   "source": [
    "gender_col"
   ]
  },
  {
   "cell_type": "code",
   "execution_count": 31,
   "id": "145fee4a-ebd1-4301-8149-0b3f77b2fd9b",
   "metadata": {},
   "outputs": [
    {
     "data": {
      "text/plain": [
       "Gender identity (1 = female; 2 = male; 3 = self-described)\n",
       "1.0    807\n",
       "2.0    260\n",
       "3.0      6\n",
       "Name: count, dtype: int64"
      ]
     },
     "execution_count": 31,
     "metadata": {},
     "output_type": "execute_result"
    }
   ],
   "source": [
    "gender_col.value_counts()"
   ]
  },
  {
   "cell_type": "code",
   "execution_count": 32,
   "id": "7a2ae421-a0bd-474a-9639-932bc7a6e321",
   "metadata": {},
   "outputs": [],
   "source": [
    "male = gender_col[gender_col == 2].index\n",
    "female = gender_col[gender_col == 1].index"
   ]
  },
  {
   "cell_type": "code",
   "execution_count": 33,
   "id": "e230b785-da7c-47b5-91ea-cf2c4f5197aa",
   "metadata": {},
   "outputs": [
    {
     "data": {
      "text/plain": [
       "9       4.0\n",
       "13      3.0\n",
       "15      3.5\n",
       "17      NaN\n",
       "19      2.0\n",
       "       ... \n",
       "1082    4.0\n",
       "1084    1.0\n",
       "1088    2.5\n",
       "1089    3.0\n",
       "1090    3.0\n",
       "Name: Shrek (2001), Length: 260, dtype: float64"
      ]
     },
     "execution_count": 33,
     "metadata": {},
     "output_type": "execute_result"
    }
   ],
   "source": [
    "movie_male = df.iloc[male]\n",
    "movie_male = movie_male['Shrek (2001)']\n",
    "movie_male"
   ]
  },
  {
   "cell_type": "code",
   "execution_count": 34,
   "id": "fdcf631e-300e-4b9c-89f6-09dce9484577",
   "metadata": {},
   "outputs": [
    {
     "data": {
      "text/plain": [
       "0       3.0\n",
       "1       3.0\n",
       "2       3.5\n",
       "3       0.5\n",
       "4       3.0\n",
       "       ... \n",
       "1092    3.0\n",
       "1093    4.0\n",
       "1094    3.5\n",
       "1095    2.5\n",
       "1096    2.0\n",
       "Name: Shrek (2001), Length: 807, dtype: float64"
      ]
     },
     "execution_count": 34,
     "metadata": {},
     "output_type": "execute_result"
    }
   ],
   "source": [
    "movie_female = df.iloc[female]\n",
    "movie_female = movie_female['Shrek (2001)']\n",
    "movie_female"
   ]
  },
  {
   "cell_type": "code",
   "execution_count": 35,
   "id": "eebe09ff-ccf6-48a4-98d8-6efde488f96a",
   "metadata": {},
   "outputs": [
    {
     "name": "stdout",
     "output_type": "stream",
     "text": [
      "-1.1016699726285886 0.27087511813734194\n"
     ]
    }
   ],
   "source": [
    "t_stat, p_value = ttest_ind(movie_male, movie_female, nan_policy='omit')\n",
    "print(t_stat, p_value)"
   ]
  },
  {
   "cell_type": "code",
   "execution_count": 40,
   "id": "6218020b-06f3-4e48-80c3-9388a10fb3b6",
   "metadata": {},
   "outputs": [
    {
     "name": "stdout",
     "output_type": "stream",
     "text": [
      "-1.1016699726285886 0.8645624409313291\n"
     ]
    }
   ],
   "source": [
    "t_stat, p_value = ttest_ind(movie_male, movie_female, nan_policy='omit', alternative='greater')\n",
    "print(t_stat, p_value)"
   ]
  },
  {
   "cell_type": "code",
   "execution_count": 37,
   "id": "ec96c078-88d3-4b16-afcd-23975dd533d5",
   "metadata": {},
   "outputs": [
    {
     "data": {
      "image/png": "[encoded data removed]",
      "text/plain": [
       "<Figure size 800x600 with 1 Axes>"
      ]
     },
     "metadata": {},
     "output_type": "display_data"
    }
   ],
   "source": [
    "plt.figure(figsize=(8,6))\n",
    "sns.boxplot(data=[movie_male, movie_female])\n",
    "plt.xticks([0, 1], ['Group 1', 'Group 2'])\n",
    "plt.title('Boxplot of Group 1 and Group 2')\n",
    "plt.show()\n"
   ]
  },
  {
   "cell_type": "code",
   "execution_count": 38,
   "id": "9f8fa733-89b0-46f0-a863-600ff9b117aa",
   "metadata": {},
   "outputs": [
    {
     "data": {
      "image/png": "[encoded data removed]",
      "text/plain": [
       "<Figure size 800x600 with 1 Axes>"
      ]
     },
     "metadata": {},
     "output_type": "display_data"
    }
   ],
   "source": [
    "plt.figure(figsize=(8,6))\n",
    "sns.violinplot(data=[movie_male, movie_female])\n",
    "plt.xticks([0, 1], ['Group 1', 'Group 2'])\n",
    "plt.title('Violin plot of Group 1 and Group 2')\n",
    "plt.show()\n"
   ]
  },
  {
   "cell_type": "code",
   "execution_count": 49,
   "id": "bc087423-3b7d-4247-a111-d1f02012f947",
   "metadata": {},
   "outputs": [
    {
     "data": {
      "text/plain": [
       "0.6777603691396499"
      ]
     },
     "execution_count": 49,
     "metadata": {},
     "output_type": "execute_result"
    }
   ],
   "source": [
    "np.var(movie_male)"
   ]
  },
  {
   "cell_type": "code",
   "execution_count": 50,
   "id": "e19fbbe2-5c76-478e-b7b7-279d40109c72",
   "metadata": {},
   "outputs": [
    {
     "data": {
      "text/plain": [
       "0.8207206244373235"
      ]
     },
     "execution_count": 50,
     "metadata": {},
     "output_type": "execute_result"
    }
   ],
   "source": [
    "np.var(movie_female)"
   ]
  },
  {
   "cell_type": "code",
   "execution_count": 52,
   "id": "4c1c6133-b2cd-4691-a124-c73ba6fd53ac",
   "metadata": {},
   "outputs": [
    {
     "name": "stdout",
     "output_type": "stream",
     "text": [
      "Levene's Test Statistic: 0.44722614898750407\n",
      "P-Value: 0.503812335250825\n",
      "Variances are not significantly different\n"
     ]
    }
   ],
   "source": [
    "import numpy as np\n",
    "from scipy.stats import levene\n",
    "\n",
    "# 生成两组模拟数据\n",
    "\n",
    "\n",
    "# 执行 Levene's test\n",
    "stat, p = levene(movie_male.dropna(), movie_female.dropna())\n",
    "\n",
    "print(f\"Levene's Test Statistic: {stat}\")\n",
    "print(f\"P-Value: {p}\")\n",
    "\n",
    "if p < 0.005:\n",
    "    print(\"Variances are significantly different\")\n",
    "else:\n",
    "    print(\"Variances are not significantly different\")\n"
   ]
  },
  {
   "cell_type": "code",
   "execution_count": 54,
   "id": "2a6a074c-cb98-4cd7-bd39-65772686253c",
   "metadata": {},
   "outputs": [
    {
     "data": {
      "text/plain": [
       "3.08298755186722"
      ]
     },
     "execution_count": 54,
     "metadata": {},
     "output_type": "execute_result"
    }
   ],
   "source": [
    "np.mean(movie_male.dropna())"
   ]
  },
  {
   "cell_type": "code",
   "execution_count": 55,
   "id": "85af0755-85f1-4df1-8430-8a807883f02a",
   "metadata": {},
   "outputs": [
    {
     "data": {
      "text/plain": [
       "3.155450874831763"
      ]
     },
     "execution_count": 55,
     "metadata": {},
     "output_type": "execute_result"
    }
   ],
   "source": [
    "np.mean(movie_female.dropna())"
   ]
  },
  {
   "cell_type": "code",
   "execution_count": null,
   "id": "7def77c9-96ca-47f7-a698-47984e078013",
   "metadata": {},
   "outputs": [],
   "source": []
  }
 ],
 "metadata": {
  "kernelspec": {
   "display_name": "torch-gpu",
   "language": "python",
   "name": "torch-gpu"
  },
  "language_info": {
   "codemirror_mode": {
    "name": "ipython",
    "version": 3
   },
   "file_extension": ".py",
   "mimetype": "text/x-python",
   "name": "python",
   "nbconvert_exporter": "python",
   "pygments_lexer": "ipython3",
   "version": "3.9.16"
  }
 },
 "nbformat": 4,
 "nbformat_minor": 5
}
